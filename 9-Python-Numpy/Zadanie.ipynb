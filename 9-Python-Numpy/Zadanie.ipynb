{
 "cells": [
  {
   "cell_type": "code",
   "execution_count": 5,
   "metadata": {},
   "outputs": [],
   "source": [
    "\n",
    "# Создайте numpy array с элементами от числа N до 0 (например, для N = 10 это будет array([9, 8, 7, 6, 5, 4, 3, 2, 1, 0]))."
   ]
  },
  {
   "cell_type": "code",
   "execution_count": 6,
   "metadata": {},
   "outputs": [
    {
     "output_type": "stream",
     "name": "stdout",
     "text": [
      "[9 8 7 6 5 4 3 2 1 0]\n"
     ]
    }
   ],
   "source": [
    "# Задание 1\n",
    "# import numpy as np\n",
    "import numpy as np\n",
    "from numpy import linalg\n",
    "\n",
    "N = 10\n",
    "arr = np.flip(np.arange(N))\n",
    "print(arr)\n",
    "\n"
   ]
  },
  {
   "cell_type": "code",
   "execution_count": 7,
   "metadata": {},
   "outputs": [],
   "source": [
    "# Задание 2\n",
    "# Создайте диагональную матрицу с элементами от N до 0. Посчитайте сумму ее значений на диагонали."
   ]
  },
  {
   "cell_type": "code",
   "execution_count": 8,
   "metadata": {},
   "outputs": [
    {
     "output_type": "stream",
     "name": "stdout",
     "text": [
      "[[9. 0. 0. 0. 0. 0. 0. 0. 0. 0.]\n [0. 8. 0. 0. 0. 0. 0. 0. 0. 0.]\n [0. 0. 7. 0. 0. 0. 0. 0. 0. 0.]\n [0. 0. 0. 6. 0. 0. 0. 0. 0. 0.]\n [0. 0. 0. 0. 5. 0. 0. 0. 0. 0.]\n [0. 0. 0. 0. 0. 4. 0. 0. 0. 0.]\n [0. 0. 0. 0. 0. 0. 3. 0. 0. 0.]\n [0. 0. 0. 0. 0. 0. 0. 2. 0. 0.]\n [0. 0. 0. 0. 0. 0. 0. 0. 1. 0.]\n [0. 0. 0. 0. 0. 0. 0. 0. 0. 0.]]\n45.0\n"
     ]
    }
   ],
   "source": [
    "import numpy as np\n",
    "new_arr = np.eye(10)\n",
    "N = 10\n",
    "vec = np.arange(0, N)\n",
    "\n",
    "new = new_arr * vec #такое ли умножение?\n",
    "nnew = np.flip(new) #повернуть только так адекватно смог\n",
    "\n",
    "\n",
    "\n",
    "print(nnew) # сама матрица\n",
    "print(np.sum(new)) # сумма по диагонали\n",
    "\n",
    "#если я все правильно понял"
   ]
  },
  {
   "cell_type": "code",
   "execution_count": 9,
   "metadata": {},
   "outputs": [],
   "source": [
    "# Задание 3\n",
    "# Решите систему уравнений:\n",
    "# 4x + 2y + z = 4\n",
    "# x + 3y = 12\n",
    "# 5y + 4z = -3"
   ]
  },
  {
   "cell_type": "code",
   "execution_count": 10,
   "metadata": {},
   "outputs": [
    {
     "output_type": "stream",
     "name": "stdout",
     "text": [
      "[ 0.46666667  3.84444444 -5.55555556]\n[ 4. 12. -3.]\n"
     ]
    }
   ],
   "source": [
    "import numpy as np\n",
    "from numpy import linalg\n",
    "\n",
    "\n",
    "a = np.array( [[4, 2, 1],[1, 3, 0], [0, 5, 4]])\n",
    "b = np.array([4, 12, -3])\n",
    "\n",
    "print(linalg.solve(a, b))\n",
    "\n",
    "\n",
    "c = linalg.solve(a, b) \n",
    "\n",
    "print(a.dot(c))\n",
    "# а я особо не понял ничего"
   ]
  },
  {
   "cell_type": "code",
   "execution_count": 11,
   "metadata": {},
   "outputs": [],
   "source": [
    "# Найдите самого похожего пользователя. Т. е. посчитайте косинусное сходство между этим пользователем и всеми пользователями из массива user_stats"
   ]
  },
  {
   "cell_type": "code",
   "execution_count": 15,
   "metadata": {},
   "outputs": [
    {
     "output_type": "stream",
     "name": "stdout",
     "text": [
      "Наиболее похожий на пользователя next_user_stats -  7 0.9486832980505138\n"
     ]
    }
   ],
   "source": [
    "\n",
    "\n",
    "users_stats = np.array(\n",
    "    [\n",
    "        [2, 1, 0, 0, 0, 0],\n",
    "        [1, 1, 2, 1, 0, 0],\n",
    "        [2, 0, 1, 0, 0, 0],\n",
    "        [1, 1, 2, 1, 0, 1],\n",
    "        [0, 0, 1, 2, 0, 0],\n",
    "        [0, 0, 0, 0, 0, 5],\n",
    "        [1, 0, 0, 0, 0, 0],\n",
    "        [0, 1, 1, 0, 0, 0],\n",
    "        [0, 0, 0, 1, 1, 3],\n",
    "        [1, 0, 0, 2, 1, 4]\n",
    "    ], \n",
    "    np.int32\n",
    ")\n",
    "\n",
    "next_user_stats = np.array([0, 1, 2, 0, 0, 0])\n",
    "\n",
    "def cosine(a, b):\n",
    "    \"\"\"\n",
    "    Подсчет косинуса угла между векторами a, b по их координатам\n",
    "    \"\"\"\n",
    "\n",
    "    # длины векторов\n",
    "    aLength = np.linalg.norm(a)\n",
    "    bLength = np.linalg.norm(b)\n",
    "    \n",
    "    return np.dot(a, b) / (aLength * bLength)\n",
    "\n",
    "\n",
    "user_max = -1\n",
    "max_name = 0\n",
    "for ind, users in enumerate(users_stats):\n",
    "  lol = cosine(users, next_user_stats)\n",
    "  if lol >= user_max:\n",
    "    user_max = lol\n",
    "    max_name = ind\n",
    "\n",
    "# print(cosine(users_stats[max_name], next_user_stats))\n",
    "\n",
    "print(\"Наиболее похожий на пользователя next_user_stats - \", max_name, user_max)\n",
    "\n",
    "\n"
   ]
  },
  {
   "cell_type": "code",
   "execution_count": null,
   "metadata": {},
   "outputs": [],
   "source": []
  }
 ],
 "metadata": {
  "kernelspec": {
   "name": "python3",
   "display_name": "Python 3.8.8 64-bit ('base': conda)"
  },
  "language_info": {
   "codemirror_mode": {
    "name": "ipython",
    "version": 3
   },
   "file_extension": ".py",
   "mimetype": "text/x-python",
   "name": "python",
   "nbconvert_exporter": "python",
   "pygments_lexer": "ipython3",
   "version": "3.8.8"
  },
  "interpreter": {
   "hash": "08bdbe18a0bd1ff1aa548415cfeb3ea8c0b6bbca5c0cb6370c409ba657df1827"
  }
 },
 "nbformat": 4,
 "nbformat_minor": 5
}