{
 "cells": [
  {
   "cell_type": "code",
   "execution_count": 4,
   "metadata": {},
   "outputs": [
    {
     "output_type": "execute_result",
     "data": {
      "text/plain": [
       "73.6175"
      ]
     },
     "metadata": {},
     "execution_count": 4
    }
   ],
   "source": [
    "# from libs.exchange import Rate\n",
    "\n",
    "# Rate().usd()"
   ]
  },
  {
   "cell_type": "code",
   "execution_count": 5,
   "metadata": {},
   "outputs": [],
   "source": [
    "# Задание 1\n",
    "# Напишите функцию, которая возвращает название валюты (поле ‘Name’) с максимальным значением курса с помощью сервиса www.cbr-xml-daily.ru...ly_json.js\n",
    "\n",
    "# Задание 2\n",
    "# Добавьте в класс Rate параметр diff (со значениями True или False), который в случае значения True в методах курсов валют (eur, usd итд) будет возвращать не курс валюты, а изменение по сравнению в прошлым значением. Считайте, self.diff будет принимать значение True только при возврате значения курса. При отображении всей информации о валюте он не используется."
   ]
  },
  {
   "cell_type": "code",
   "execution_count": 89,
   "metadata": {},
   "outputs": [
    {
     "output_type": "stream",
     "name": "stdout",
     "text": [
      "СДР (специальные права заимствования)\n"
     ]
    }
   ],
   "source": [
    "import requests \n",
    "\n",
    "class Rate:\n",
    "    def __init__(self, name=\"none\"):\n",
    "        self.name = name\n",
    "\n",
    "    def max_value(self):\n",
    "        http = requests.get('https://www.cbr-xml-daily.ru/daily_json.js')\n",
    "        max_value = 0\n",
    "        max_value_name = 0\n",
    "        value = http.json()['Valute']\n",
    "        for name, info in value.items():\n",
    "            if info['Value'] >= max_value:\n",
    "                max_value = info['Value']\n",
    "                max_value_name = info['Name']\n",
    "        return(max_value_name)\n",
    "\n",
    "\n",
    "maxumum_rate = Rate().max_value()\n",
    "print(maxumum_rate)\n",
    "\n",
    "\n"
   ]
  },
  {
   "cell_type": "code",
   "execution_count": null,
   "metadata": {},
   "outputs": [],
   "source": []
  }
 ],
 "metadata": {
  "kernelspec": {
   "name": "python3",
   "display_name": "Python 3.8.8 64-bit ('base': conda)"
  },
  "language_info": {
   "codemirror_mode": {
    "name": "ipython",
    "version": 3
   },
   "file_extension": ".py",
   "mimetype": "text/x-python",
   "name": "python",
   "nbconvert_exporter": "python",
   "pygments_lexer": "ipython3",
   "version": "3.8.8"
  },
  "interpreter": {
   "hash": "08bdbe18a0bd1ff1aa548415cfeb3ea8c0b6bbca5c0cb6370c409ba657df1827"
  }
 },
 "nbformat": 4,
 "nbformat_minor": 5
}