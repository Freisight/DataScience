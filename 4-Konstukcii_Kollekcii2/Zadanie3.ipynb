{
 "cells": [
  {
   "cell_type": "code",
   "execution_count": 65,
   "id": "69028e24",
   "metadata": {},
   "outputs": [
    {
     "name": "stdout",
     "output_type": "stream",
     "text": [
      "{'vk': {'revenue': 103, 'cost': 98, 'ROI': 5.1}, 'yandex': {'revenue': 179, 'cost': 153, 'ROI': 16.99}, 'facebook': {'revenue': 103, 'cost': 110, 'ROI': -6.36}, 'adwords': {'revenue': 35, 'cost': 34, 'ROI': 2.94}, 'twitter': {'revenue': 11, 'cost': 24, 'ROI': -54.17}}\n"
     ]
    }
   ],
   "source": [
    "results = {\n",
    "    'vk': {'revenue': 103, 'cost': 98},\n",
    "    'yandex': {'revenue': 179, 'cost': 153},\n",
    "    'facebook': {'revenue': 103, 'cost': 110},\n",
    "    'adwords': {'revenue': 35, 'cost': 34},\n",
    "    'twitter': {'revenue': 11, 'cost': 24},\n",
    "}\n",
    "\n",
    "for items in results:\n",
    "    results[items].setdefault('ROI', round((results[items][\"revenue\"]/results[items][\"cost\"] - 1 ** 100)*100, 2))   \n",
    "print(results)"
   ]
  },
  {
   "cell_type": "code",
   "execution_count": null,
   "id": "2cbd2546",
   "metadata": {},
   "outputs": [],
   "source": [
    "## добавить данные у меня получилось, но в задании данные отсортированы по ключу - у меня так сделать не получилось\n",
    "## и в ноутбуке приложенном я решений подобных не нашел"
   ]
  }
 ],
 "metadata": {
  "kernelspec": {
   "display_name": "Python 3",
   "language": "python",
   "name": "python3"
  },
  "language_info": {
   "codemirror_mode": {
    "name": "ipython",
    "version": 3
   },
   "file_extension": ".py",
   "mimetype": "text/x-python",
   "name": "python",
   "nbconvert_exporter": "python",
   "pygments_lexer": "ipython3",
   "version": "3.8.8"
  }
 },
 "nbformat": 4,
 "nbformat_minor": 5
}
