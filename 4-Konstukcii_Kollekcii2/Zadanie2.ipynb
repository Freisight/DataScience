{
 "cells": [
  {
   "cell_type": "code",
   "execution_count": 1,
   "id": "9d1c469d",
   "metadata": {},
   "outputs": [
    {
     "output_type": "stream",
     "name": "stdout",
     "text": [
      "Поисковых запросов, содержащих 2 cлов(а): 42.86%\nПоисковых запросов, содержащих 3 cлов(а): 57.14%\n"
     ]
    }
   ],
   "source": [
    "# 15 june update\n",
    "\n",
    "queries = [\n",
    "    'смотреть сериалы онлайн',\n",
    "    'новости спорта',\n",
    "    'афиша кино',\n",
    "    'курс доллара',\n",
    "    'сериалы этим летом',\n",
    "    'курс по питону',\n",
    "    'сериалы про спорт',\n",
    "]\n",
    "\n",
    "words = {}\n",
    "count = 0\n",
    "for items in queries:\n",
    "    if len(queries[count].split()) not in words:\n",
    "        words[len(queries[count].split())] = 1\n",
    "    elif len(queries[count].split()) in words:\n",
    "        words[len(queries[count].split())] = words[len(queries[count].split())] + 1\n",
    "    count = count + 1\n",
    "# print(words)\n",
    "\n",
    "all = 0\n",
    "for items in words:\n",
    "    all = all + words[items]\n",
    "# print(all)\n",
    "\n",
    "for key, value in sorted(words.items()):\n",
    "    print(\"Поисковых запросов, содержащих\", key, \"cлов(а): \" + str(round((value/all)*100, 2)) + \"%\")    "
   ]
  },
  {
   "cell_type": "code",
   "execution_count": null,
   "id": "94857ed7",
   "metadata": {},
   "outputs": [],
   "source": []
  },
  {
   "cell_type": "code",
   "execution_count": null,
   "id": "dec0d7ec",
   "metadata": {},
   "outputs": [],
   "source": []
  }
 ],
 "metadata": {
  "interpreter": {
   "hash": "08bdbe18a0bd1ff1aa548415cfeb3ea8c0b6bbca5c0cb6370c409ba657df1827"
  },
  "kernelspec": {
   "name": "python3",
   "display_name": "Python 3.8.8 64-bit ('base': conda)"
  },
  "language_info": {
   "codemirror_mode": {
    "name": "ipython",
    "version": 3
   },
   "file_extension": ".py",
   "mimetype": "text/x-python",
   "name": "python",
   "nbconvert_exporter": "python",
   "pygments_lexer": "ipython3",
   "version": "3.8.8"
  }
 },
 "nbformat": 4,
 "nbformat_minor": 5
}