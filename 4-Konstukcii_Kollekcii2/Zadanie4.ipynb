{
 "cells": [
  {
   "cell_type": "code",
   "execution_count": 36,
   "id": "72b77115",
   "metadata": {},
   "outputs": [],
   "source": [
    "stats = {'facebook': 55, 'yandex': 115, 'vk': 120, 'google': 99, 'email': 42, 'ok': 98}"
   ]
  },
  {
   "cell_type": "code",
   "execution_count": 37,
   "id": "7c85fd7e",
   "metadata": {},
   "outputs": [
    {
     "name": "stdout",
     "output_type": "stream",
     "text": [
      "Максимальный объем продаж на рекламном канале: vk\n"
     ]
    }
   ],
   "source": [
    "print(\"Максимальный объем продаж на рекламном канале:\", max(stats, key = stats.get))"
   ]
  },
  {
   "cell_type": "code",
   "execution_count": 38,
   "id": "2526cf61",
   "metadata": {},
   "outputs": [],
   "source": [
    "## я не смог решить задачу теми способьами, что дали мне в ноутбуке, но я немного загуглил"
   ]
  }
 ],
 "metadata": {
  "kernelspec": {
   "display_name": "Python 3",
   "language": "python",
   "name": "python3"
  },
  "language_info": {
   "codemirror_mode": {
    "name": "ipython",
    "version": 3
   },
   "file_extension": ".py",
   "mimetype": "text/x-python",
   "name": "python",
   "nbconvert_exporter": "python",
   "pygments_lexer": "ipython3",
   "version": "3.8.8"
  }
 },
 "nbformat": 4,
 "nbformat_minor": 5
}
