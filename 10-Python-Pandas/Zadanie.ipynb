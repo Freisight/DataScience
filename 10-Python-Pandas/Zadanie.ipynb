{
 "cells": [
  {
   "cell_type": "code",
   "execution_count": 1,
   "metadata": {},
   "outputs": [],
   "source": [
    "# Задание 1\n",
    "# Скачайте с сайта grouplens.org...movielens/ датасет любого размера. Определите какому фильму было выставлено больше всего оценок 5.0."
   ]
  },
  {
   "cell_type": "code",
   "execution_count": 3,
   "metadata": {},
   "outputs": [],
   "source": [
    "import pandas as pd\n",
    "data = pd.read_csv('ml-25m/ratings.csv')"
   ]
  },
  {
   "cell_type": "code",
   "execution_count": 11,
   "metadata": {},
   "outputs": [
    {
     "output_type": "stream",
     "name": "stdout",
     "text": [
      "movieId      318\ncount      39553\nName: 0, dtype: int64\n"
     ]
    }
   ],
   "source": [
    "best = data[data['rating'] == 5.0]\n",
    "value_counter = best['movieId'].value_counts()\n",
    "value_res = pd.DataFrame(value_counter).reset_index()\n",
    "value_res.columns=['movieId', 'count']\n",
    "print(value_res.iloc[0])\n",
    "\n",
    "# у меня не получилось сгруппировать это через groupby =( как делать памагати"
   ]
  },
  {
   "cell_type": "code",
   "execution_count": 10,
   "metadata": {},
   "outputs": [],
   "source": [
    "# Задание 2\n",
    "# По данным файла power.csv посчитайте суммарное потребление стран Прибалтики (Латвия, Литва и Эстония) категорий 4, 12 и 21 за период с 2005 по 2010 года. Не учитывайте в расчетах отрицательные значения quantity."
   ]
  },
  {
   "cell_type": "code",
   "execution_count": 9,
   "metadata": {},
   "outputs": [
    {
     "output_type": "execute_result",
     "data": {
      "text/plain": [
       "240580.0"
      ]
     },
     "metadata": {},
     "execution_count": 9
    }
   ],
   "source": [
    "power = pd.read_csv('power.csv')\n",
    "\n",
    "# таков путь\n",
    "# отсортировать года с 2005 по 2010\n",
    "# из них отсортировать категории 4, 12 и 21\n",
    "# из этого подсчитать всю сумму Латвии, Литвы и Эстонии (вся Прибалтика)\n",
    "\n",
    "years_filt = power[(power['year'] >= 2005) & (power['year'] <= 2010)]\n",
    "cat_filt = years_filt[(years_filt['category'] == 4) | (years_filt['category'] == 12) | (years_filt['category'] == 21)]\n",
    "bribalt_country = cat_filt[((cat_filt['country'] == 'Lithuania') | (cat_filt['country'] == 'Latvia') | (cat_filt['country'] == 'Estonia')) & (cat_filt['quantity'] >= 0)]\n",
    "bribalt_country['quantity'].sum() # сумма всей прибалтики\n",
    "# bribalt_country[bribalt_country['country'] == \"Estonia\"]['quantity'].sum() #тут считает только Эстония апример\n",
    "# bribalt_country[['country', 'quantity']].groupby('country').sum() # тут сумма по каждой стране\n",
    "# bribalt_country[['country', 'year', 'quantity']].groupby(['country', 'year']).sum()  # а тут суммирование расхода стран по годам"
   ]
  },
  {
   "cell_type": "code",
   "execution_count": 8,
   "metadata": {},
   "outputs": [
    {
     "output_type": "execute_result",
     "data": {
      "text/plain": [
       "              year     quantity    category\n",
       "count   408.000000   408.000000  408.000000\n",
       "mean   2007.575980   589.656863   16.367647\n",
       "std       1.622662  1063.388571    6.429136\n",
       "min    2005.000000     0.000000    4.000000\n",
       "25%    2006.000000     1.000000   12.000000\n",
       "50%    2008.000000    27.000000   21.000000\n",
       "75%    2009.000000   760.000000   21.000000\n",
       "max    2010.000000  4909.000000   21.000000"
      ],
      "text/html": "<div>\n<style scoped>\n    .dataframe tbody tr th:only-of-type {\n        vertical-align: middle;\n    }\n\n    .dataframe tbody tr th {\n        vertical-align: top;\n    }\n\n    .dataframe thead th {\n        text-align: right;\n    }\n</style>\n<table border=\"1\" class=\"dataframe\">\n  <thead>\n    <tr style=\"text-align: right;\">\n      <th></th>\n      <th>year</th>\n      <th>quantity</th>\n      <th>category</th>\n    </tr>\n  </thead>\n  <tbody>\n    <tr>\n      <th>count</th>\n      <td>408.000000</td>\n      <td>408.000000</td>\n      <td>408.000000</td>\n    </tr>\n    <tr>\n      <th>mean</th>\n      <td>2007.575980</td>\n      <td>589.656863</td>\n      <td>16.367647</td>\n    </tr>\n    <tr>\n      <th>std</th>\n      <td>1.622662</td>\n      <td>1063.388571</td>\n      <td>6.429136</td>\n    </tr>\n    <tr>\n      <th>min</th>\n      <td>2005.000000</td>\n      <td>0.000000</td>\n      <td>4.000000</td>\n    </tr>\n    <tr>\n      <th>25%</th>\n      <td>2006.000000</td>\n      <td>1.000000</td>\n      <td>12.000000</td>\n    </tr>\n    <tr>\n      <th>50%</th>\n      <td>2008.000000</td>\n      <td>27.000000</td>\n      <td>21.000000</td>\n    </tr>\n    <tr>\n      <th>75%</th>\n      <td>2009.000000</td>\n      <td>760.000000</td>\n      <td>21.000000</td>\n    </tr>\n    <tr>\n      <th>max</th>\n      <td>2010.000000</td>\n      <td>4909.000000</td>\n      <td>21.000000</td>\n    </tr>\n  </tbody>\n</table>\n</div>"
     },
     "metadata": {},
     "execution_count": 8
    }
   ],
   "source": [
    "bribalt_country.describe()\n",
    "# это тут просто так"
   ]
  },
  {
   "cell_type": "code",
   "execution_count": 7,
   "metadata": {},
   "outputs": [],
   "source": [
    "# Задание 3\n",
    "# Выберите страницу любого сайта с табличными данными. Импортируйте таблицы в pandas dataframe.\n",
    "# Примеры страниц (необязательно брать именно эти):\n",
    "# https://fortrader.org/quotes\n",
    "# www.finanz.ru...om-vremeni"
   ]
  },
  {
   "cell_type": "code",
   "execution_count": 9,
   "metadata": {},
   "outputs": [
    {
     "output_type": "execute_result",
     "data": {
      "text/plain": [
       "[    Цифр. код Букв. код  Единиц                                    Валюта  \\\n",
       " 0          36       AUD       1                      Австралийский доллар   \n",
       " 1         944       AZN       1                     Азербайджанский манат   \n",
       " 2          51       AMD     100                          Армянских драмов   \n",
       " 3         933       BYN       1                         Белорусский рубль   \n",
       " 4         975       BGN       1                            Болгарский лев   \n",
       " 5         986       BRL       1                          Бразильский реал   \n",
       " 6         348       HUF     100                       Венгерских форинтов   \n",
       " 7         410       KRW    1000                      Вон Республики Корея   \n",
       " 8         344       HKD      10                      Гонконгских долларов   \n",
       " 9         208       DKK       1                             Датская крона   \n",
       " 10        840       USD       1                                Доллар США   \n",
       " 11        978       EUR       1                                      Евро   \n",
       " 12        356       INR     100                           Индийских рупий   \n",
       " 13        398       KZT     100                       Казахстанских тенге   \n",
       " 14        124       CAD       1                          Канадский доллар   \n",
       " 15        417       KGS     100                          Киргизских сомов   \n",
       " 16        156       CNY       1                            Китайский юань   \n",
       " 17        498       MDL      10                           Молдавских леев   \n",
       " 18        934       TMT       1                   Новый туркменский манат   \n",
       " 19        578       NOK      10                           Норвежских крон   \n",
       " 20        985       PLN       1                           Польский злотый   \n",
       " 21        946       RON       1                             Румынский лей   \n",
       " 22        960       XDR       1     СДР (специальные права заимствования)   \n",
       " 23        702       SGD       1                       Сингапурский доллар   \n",
       " 24        972       TJS      10                         Таджикских сомони   \n",
       " 25        949       TRY      10                              Турецких лир   \n",
       " 26        860       UZS   10000                           Узбекских сумов   \n",
       " 27        980       UAH      10                         Украинских гривен   \n",
       " 28        826       GBP       1  Фунт стерлингов Соединенного королевства   \n",
       " 29        203       CZK      10                              Чешских крон   \n",
       " 30        752       SEK      10                             Шведских крон   \n",
       " 31        756       CHF       1                         Швейцарский франк   \n",
       " 32        710       ZAR      10                    Южноафриканских рэндов   \n",
       " 33        392       JPY     100                              Японских иен   \n",
       " \n",
       "        Курс  \n",
       " 0    552147  \n",
       " 1    436278  \n",
       " 2    148917  \n",
       " 3    289477  \n",
       " 4    447012  \n",
       " 5    143545  \n",
       " 6    243920  \n",
       " 7    644867  \n",
       " 8    954254  \n",
       " 9    117558  \n",
       " 10   741236  \n",
       " 11   873917  \n",
       " 12   993714  \n",
       " 13   173512  \n",
       " 14   592704  \n",
       " 15   874482  \n",
       " 16   114519  \n",
       " 17   411455  \n",
       " 18   212085  \n",
       " 19   846063  \n",
       " 20   190608  \n",
       " 21   177440  \n",
       " 22  1056165  \n",
       " 23   546997  \n",
       " 24   649922  \n",
       " 25   859713  \n",
       " 26   696056  \n",
       " 27   271502  \n",
       " 28  1026982  \n",
       " 29   340266  \n",
       " 30   857208  \n",
       " 31   807623  \n",
       " 32   502768  \n",
       " 33   670832  ]"
      ]
     },
     "metadata": {},
     "execution_count": 9
    }
   ],
   "source": [
    "site = pd.read_html('https://cbr.ru/currency_base/daily/', attrs = {'class': 'data'}, encoding='utf-8')\n",
    "site\n",
    "# вывести-то вывелось, но работать с этими данными не получилось. Что надо делать?"
   ]
  },
  {
   "cell_type": "code",
   "execution_count": null,
   "metadata": {},
   "outputs": [],
   "source": []
  }
 ],
 "metadata": {
  "interpreter": {
   "hash": "08bdbe18a0bd1ff1aa548415cfeb3ea8c0b6bbca5c0cb6370c409ba657df1827"
  },
  "kernelspec": {
   "name": "python3",
   "display_name": "Python 3.8.8 64-bit ('base': conda)"
  },
  "language_info": {
   "codemirror_mode": {
    "name": "ipython",
    "version": 3
   },
   "file_extension": ".py",
   "mimetype": "text/x-python",
   "name": "python",
   "nbconvert_exporter": "python",
   "pygments_lexer": "ipython3",
   "version": "3.8.8"
  }
 },
 "nbformat": 4,
 "nbformat_minor": 5
}