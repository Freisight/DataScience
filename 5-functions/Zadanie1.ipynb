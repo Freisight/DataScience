{
 "cells": [
  {
   "cell_type": "code",
   "execution_count": 9,
   "metadata": {},
   "outputs": [],
   "source": [
    "documents = [\n",
    " {'type': 'passport', 'number': '2207 876234', 'name': 'Василий Гупкин'},\n",
    " {'type': 'invoice', 'number': '11-2', 'name': 'Геннадий Покемонов'},\n",
    " {'type': 'insurance', 'number': '10006', 'name': 'Аристарх Павлов'}\n",
    "]\n",
    "\n",
    "directories = {\n",
    " '1': ['2207 876234', '11-2'],\n",
    " '2': ['10006'],\n",
    " '3': []\n",
    "}"
   ]
  },
  {
   "cell_type": "code",
   "execution_count": 10,
   "id": "b8b64b4d",
   "metadata": {
    "tags": []
   },
   "outputs": [
    {
     "output_type": "stream",
     "name": "stdout",
     "text": [
      "p - поиск по документу имя владельца\n",
      "s - поиск по номеру документу полку на стеллаже\n",
      "l - просмотр всех длокументов в базе\n",
      "ads - добавление новой полки\n",
      "ds - удаление полки\n",
      "q - остановить программу\n",
      "Документ хранится на полке: 2\n",
      "Документ не найден в базе\n",
      "Документ не найден в базе\n",
      "Документ хранится на полке: 2\n"
     ]
    }
   ],
   "source": [
    "def main():\n",
    "    all_commands()\n",
    "    while True:\n",
    "        command = input(\"Введите команду \")\n",
    "        if command == 'p':\n",
    "            search_doc()\n",
    "        elif command == 's':\n",
    "            doc_number = input(\"Введите номер документа\")\n",
    "            direct_num = search_direct(doc_number)\n",
    "\n",
    "            if direct_num is None:\n",
    "                print(\"Документ не найден в базе\")\n",
    "            else:\n",
    "                print('Документ хранится на полке:', direct_num)\n",
    "        elif command == 'l':\n",
    "            for all_info in documents:\n",
    "                print(\"№\",all_info['number'] + str(\",\"), \"тип:\", all_info['type'] + str(\",\"), \"владелец:\", all_info['name'] + str(\",\"), \"полка хранения:\",  search_direct(all_info['number']))\n",
    "        elif command == 'ds':\n",
    "            del_direct()\n",
    "        elif command == 'ads':\n",
    "            add_direct()\n",
    "        elif command == 'q':\n",
    "            break\n",
    "def all_commands():\n",
    "    print(\"p - поиск по документу имя владельца\")\n",
    "    print(\"s - поиск по номеру документу полку на стеллаже\")\n",
    "    print(\"l - просмотр всех длокументов в базе\")\n",
    "    print(\"ads - добавление новой полки\")  \n",
    "    print(\"ds - удаление полки\")\n",
    "    print(\"q - остановить программу\")\n",
    "\n",
    "def search_doc():\n",
    "    doc_input = input(\"Введите номер\")\n",
    "    owner = None\n",
    "    for document in documents:\n",
    "        if document[\"number\"] == doc_input:\n",
    "            owner = document[\"name\"]\n",
    "            break\n",
    "    if owner is None:\n",
    "        print(\"Документ не найден в базе\")\n",
    "    else:\n",
    "        print(\"Найден\", owner)    \n",
    "\n",
    "def search_direct(doc_number):\n",
    "    direct = None\n",
    "    for directory, numbers in directories.items():\n",
    "        if doc_number in numbers:\n",
    "            direct = directory\n",
    "            break  \n",
    "    return direct\n",
    "\n",
    "def add_direct():\n",
    "    add_input = input('Введите номер полки')\n",
    "    if add_input in directories.keys():\n",
    "        end_directs = \", \".join([str(key) for key in directories.keys()])\n",
    "        print(\"Такая полка уже существует. Текущий перечень полок:\", end_directs + '.')\n",
    "    else:\n",
    "        directories.setdefault(add_input)\n",
    "        end_directs = \", \".join([str(key) for key in directories.keys()])\n",
    "        print('Полка добавлена. Текущий перечень полок:', end_directs + '.')\n",
    "\n",
    "def del_direct():\n",
    "    del_input = input(\"Введите номер полки:\")\n",
    "    if del_input in directories.keys() and not directories.get(del_input):\n",
    "        del(directories[del_input])\n",
    "        end_directs = \", \".join([str(key) for key in directories.keys()])\n",
    "        print(\"Полка\", del_input , \"удалена. Текущий перечень полок:\", end_directs + '.')\n",
    "    elif del_input in directories.keys() and directories.get(del_input):\n",
    "        end_directs = \", \".join([str(key) for key in directories.keys()])\n",
    "        print(\"На полке есть документ, удалите их перед удалением полки. Текущий перечень полок:\", end_directs + '.')\n",
    "    else:\n",
    "        end_directs = \", \".join([str(key) for key in directories.keys()])\n",
    "        print(\"Такой полки не существует. Текущий перечень полок:\", end_directs + '.')\n",
    "            \n",
    "main()"
   ]
  },
  {
   "cell_type": "code",
   "execution_count": null,
   "metadata": {},
   "outputs": [],
   "source": []
  }
 ],
 "metadata": {
  "interpreter": {
   "hash": "08bdbe18a0bd1ff1aa548415cfeb3ea8c0b6bbca5c0cb6370c409ba657df1827"
  },
  "kernelspec": {
   "name": "python3",
   "display_name": "Python 3.8.8 64-bit ('base': conda)"
  },
  "language_info": {
   "codemirror_mode": {
    "name": "ipython",
    "version": 3
   },
   "file_extension": ".py",
   "mimetype": "text/x-python",
   "name": "python",
   "nbconvert_exporter": "python",
   "pygments_lexer": "ipython3",
   "version": "3.8.8"
  },
  "metadata": {
   "interpreter": {
    "hash": "08bdbe18a0bd1ff1aa548415cfeb3ea8c0b6bbca5c0cb6370c409ba657df1827"
   }
  }
 },
 "nbformat": 4,
 "nbformat_minor": 5
}