{
 "cells": [
  {
   "cell_type": "code",
   "execution_count": 12,
   "id": "9fc47a21",
   "metadata": {},
   "outputs": [],
   "source": [
    "documents = [\n",
    " {'type': 'passport', 'number': '2207 876234', 'name': 'Василий Гупкин'},\n",
    " {'type': 'invoice', 'number': '11-2', 'name': 'Геннадий Покемонов'},\n",
    " {'type': 'insurance', 'number': '10006', 'name': 'Аристарх Павлов'}\n",
    "]"
   ]
  },
  {
   "cell_type": "code",
   "execution_count": null,
   "id": "428a8dd1",
   "metadata": {},
   "outputs": [],
   "source": [
    "directories = {\n",
    " '1': ['2207 876234', '11-2'],\n",
    " '2': ['10006'],\n",
    " '3': []\n",
    "}"
   ]
  },
  {
   "cell_type": "code",
   "execution_count": null,
   "id": "b8b64b4d",
   "metadata": {
    "tags": []
   },
   "outputs": [],
   "source": [
    "def main():\n",
    "    while True:\n",
    "        command = input(\"Введите команду \")\n",
    "        if command == 'p':\n",
    "            search_doc()\n",
    "        elif command == 's':\n",
    "            doc_number = input(\"Введите номер документа\")\n",
    "            direct_num = search_direct(doc_number)\n",
    "            if direct_num is None:\n",
    "                print(\"не найлдено\")\n",
    "            else:\n",
    "                print(direct_num)\n",
    "                \n",
    "\n",
    "def search_doc():\n",
    "    doc_input = input(\"Введите номер\")\n",
    "    owner = None\n",
    "    for document in documents:\n",
    "        if document[\"number\"] == doc_input:\n",
    "            owner = document[\"name\"]\n",
    "            break\n",
    "    if owner is None:\n",
    "        print(\"фак\")\n",
    "    else:\n",
    "        print(\"Найден\", owner)    \n",
    "\n",
    "def search_direct(doc_number):\n",
    "    direct = None\n",
    "    for directory, numbers in directories.items():\n",
    "        if doc_number in numbers:\n",
    "            direct = directory\n",
    "            break\n",
    "    return direct\n",
    "    \n",
    "# итерация по словарям метод items\n",
    "# как вивести ключ      \n",
    "            \n",
    "main()\n",
    "\n",
    "#     command = input(\"Введите команду\")\n",
    "#     if command == 'p':\n",
    "#         search_doc()\n",
    "#     elif command == 's':\n",
    "#         print(\"эта команда ещё не готова\")\n",
    "#     elif command == 'q':\n",
    "#         break\n",
    "#     else:\n",
    "#         print(\"Нет такой команды\")"
   ]
  },
  {
   "cell_type": "code",
   "execution_count": null,
   "id": "1f5293ea",
   "metadata": {},
   "outputs": [],
   "source": []
  }
 ],
 "metadata": {
  "interpreter": {
   "hash": "08bdbe18a0bd1ff1aa548415cfeb3ea8c0b6bbca5c0cb6370c409ba657df1827"
  },
  "kernelspec": {
   "display_name": "Python 3",
   "language": "python",
   "name": "python3"
  },
  "language_info": {
   "codemirror_mode": {
    "name": "ipython",
    "version": 3
   },
   "file_extension": ".py",
   "mimetype": "text/x-python",
   "name": "python",
   "nbconvert_exporter": "python",
   "pygments_lexer": "ipython3",
   "version": "3.8.8"
  },
  "metadata": {
   "interpreter": {
    "hash": "08bdbe18a0bd1ff1aa548415cfeb3ea8c0b6bbca5c0cb6370c409ba657df1827"
   }
  }
 },
 "nbformat": 4,
 "nbformat_minor": 5
}
