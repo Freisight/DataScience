{
 "cells": [
  {
   "cell_type": "code",
   "execution_count": 93,
   "id": "af67ab8a",
   "metadata": {},
   "outputs": [
    {
     "name": "stdout",
     "output_type": "stream",
     "text": [
      "Стандартная коробка №1\n"
     ]
    }
   ],
   "source": [
    "width = 15\n",
    "length = 12\n",
    "height = 15\n",
    "\n",
    "if width <= 15 and length <= 15 and height <= 15:\n",
    "    print(\"Стандартная коробка №1\")\n",
    "elif width < 50 and length < 50 and height < 50 or width > 15 and length > 15 and height > 15:\n",
    "    print(\"Стандартная коробка №2\")\n",
    "elif length >= 200:\n",
    "    print(\"Упаковка для лыж\")\n",
    "else:\n",
    "    print(\"Стандартная коробка №3\")"
   ]
  },
  {
   "cell_type": "code",
   "execution_count": null,
   "id": "2a0f5173",
   "metadata": {},
   "outputs": [],
   "source": []
  },
  {
   "cell_type": "code",
   "execution_count": null,
   "id": "11106801",
   "metadata": {},
   "outputs": [],
   "source": []
  }
 ],
 "metadata": {
  "kernelspec": {
   "display_name": "Python 3",
   "language": "python",
   "name": "python3"
  },
  "language_info": {
   "codemirror_mode": {
    "name": "ipython",
    "version": 3
   },
   "file_extension": ".py",
   "mimetype": "text/x-python",
   "name": "python",
   "nbconvert_exporter": "python",
   "pygments_lexer": "ipython3",
   "version": "3.8.8"
  }
 },
 "nbformat": 4,
 "nbformat_minor": 5
}
