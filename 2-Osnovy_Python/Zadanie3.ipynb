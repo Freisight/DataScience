{
 "cells": [
  {
   "cell_type": "code",
   "execution_count": 2,
   "id": "11544617",
   "metadata": {},
   "outputs": [
    {
     "name": "stdout",
     "output_type": "stream",
     "text": [
      "Введите день 5\n",
      "Введите месяц май\n",
      "Ваш знак зодиака: телец\n"
     ]
    }
   ],
   "source": [
    "day = int(input(\"Введите день \"))\n",
    "month = input(\"Введите месяц \")\n",
    "\n",
    "if day >= 20 and month == \"январь\" or day <= 19 and month == \"февраль\":\n",
    "    print(\"Ваш знак зодиака: водолей\")\n",
    "elif day >= 20 and month == \"февраль\" or day <= 20 and month == \"март\":\n",
    "    print(\"Ваш знак зодиака: рыба\")\n",
    "elif day >= 21 and month == \"март\" or day <= 19 and month == \"апрель\":\n",
    "    print(\"Ваш знак зодиака: овен\")\n",
    "elif day >= 20 and month == \"апрель\" or day <= 20 and month == \"май\":\n",
    "    print(\"Ваш знак зодиака: телец\")\n",
    "elif day >= 21 and month == \"май\" or day <= 20 and month == \"июнь\":\n",
    "    print(\"Ваш знак зодиака: близнец\")\n",
    "elif day >= 21 and month == \"июнь\" or day <= 22 and month == \"июль\":\n",
    "    print(\"Ваш знак зодиака: рак\")\n",
    "elif day >= 23 and month == \"июль\" or day <= 22 and month == \"август\":\n",
    "    print(\"Ваш знак зодиака: лев\")\n",
    "elif day >= 23 and month == \"август\" or day <= 22 and month == \"сентябрь\":\n",
    "    print(\"Ваш знак зодиака: дева\")\n",
    "elif day >= 23 and month == \"сентябрь\" or day <= 23 and month == \"октябрь\":\n",
    "    print(\"Ваш знак зодиака: весы\")\n",
    "elif day >= 24 and month == \"октябрь\" or day <= 22 and month == \"ноябрь\":\n",
    "    print(\"Ваш знак зодиака: скорпион\")\n",
    "elif day >= 23 and month == \"ноябрь\" or day <= 21 and month == \"декабрь\":\n",
    "    print(\"Ваш знак зодиака: стрелец\")\n",
    "elif day >= 22 and month == \"декабрь\" or day <= 19 and month == \"январь\":\n",
    "    print(\"Ваш знак зодиака: козерог\")\n",
    "else:\n",
    "    print(\"Я не понял. Повторите запрос!\")\n",
    "          \n",
    "# вообще я бы тут еще сделал бы уравнинивание регистра букв в месяце и другие вариативности заполнения"
   ]
  }
 ],
 "metadata": {
  "kernelspec": {
   "display_name": "Python 3",
   "language": "python",
   "name": "python3"
  },
  "language_info": {
   "codemirror_mode": {
    "name": "ipython",
    "version": 3
   },
   "file_extension": ".py",
   "mimetype": "text/x-python",
   "name": "python",
   "nbconvert_exporter": "python",
   "pygments_lexer": "ipython3",
   "version": "3.8.8"
  }
 },
 "nbformat": 4,
 "nbformat_minor": 5
}
