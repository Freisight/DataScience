{
 "cells": [
  {
   "cell_type": "code",
   "execution_count": 1,
   "id": "f5a55ef6",
   "metadata": {},
   "outputs": [
    {
     "output_type": "stream",
     "name": "stdout",
     "text": [
      "2002-10-02 00:00:00\n2013-10-11 00:00:00\n1977-08-18 00:00:00\n"
     ]
    }
   ],
   "source": [
    "from datetime import datetime\n",
    "\n",
    "moskowtimes_str = \"The Moscow Times - Wednesday, October 2, 2002\"\n",
    "guardian_str = \"The Guardian - Friday, 11.10.13\"\n",
    "dayli_str =  \"Thursday, 18 August 1977\"\n",
    "\n",
    "moskowtimes_date = datetime.strptime(moskowtimes_str, 'The Moscow Times - %A, %B %d, %Y')\n",
    "print(moskowtimes_date)\n",
    "\n",
    "guardian_date = datetime.strptime(guardian_str, 'The Guardian - %A, %d.%m.%y')\n",
    "print(guardian_date)\n",
    "\n",
    "dayli_date = datetime.strptime(dayli_str, '%A, %d %B %Y')\n",
    "print(dayli_date)"
   ]
  },
  {
   "cell_type": "code",
   "execution_count": 60,
   "metadata": {},
   "outputs": [
    {
     "output_type": "execute_result",
     "data": {
      "text/plain": [
       "[True, False, False]"
      ]
     },
     "metadata": {},
     "execution_count": 60
    }
   ],
   "source": [
    "# наверное у datetime имеется способ проверки даты простой\n",
    "\n",
    "\n",
    "stream = ['2018-04-02', '2018-02-29', '2018-19-02']\n",
    "\n",
    "\n",
    "\n",
    "def date_check(date):\n",
    "    months = [0, 31, 28, 31, 30, 31, 30, 31, 31, 30, 31, 30, 31]\n",
    "    stream_str = []\n",
    "    date_end = []\n",
    "    answers = []\n",
    "    # делим даты в списке на маленькие списки\n",
    "    for items in stream:\n",
    "        stream_str.append(items.split('-'))\n",
    "\n",
    "    \n",
    "    # переводим элементы словаря в виде строк в числа\n",
    "    count = 0\n",
    "    for items in stream_str:\n",
    "        date_end.append(list(map(int, stream_str[count])))\n",
    "        count += 1\n",
    "\n",
    "    for y, m, d in date_end:\n",
    "        # проверка даты на високосный год\n",
    "        if y % 4 == 0 and y % 100 != 0 or y % 400 == 0:\n",
    "            months[2] = 29\n",
    "        else:\n",
    "            months[2] = 28\n",
    "\n",
    "        # основная проверка даты по году, месяцу и дню\n",
    "        if y > 1900 and y < 2100 and m > 1 and m < 12 and d > 1 and d <= months[m]:\n",
    "            answers.append(True)\n",
    "        else:\n",
    "            answers.append(False)\n",
    "\n",
    "    return answers\n",
    "\n",
    "date_check(stream)"
   ]
  },
  {
   "cell_type": "code",
   "execution_count": 3,
   "metadata": {},
   "outputs": [],
   "source": [
    "# Напишите функцию date_range, которая возвращает список дат за период от start_date до end_date. Даты должны вводиться в формате YYYY-MM-DD. В случае неверного формата или при start_date > end_date должен возвращаться пустой список."
   ]
  },
  {
   "cell_type": "code",
   "execution_count": 14,
   "metadata": {},
   "outputs": [
    {
     "output_type": "execute_result",
     "data": {
      "text/plain": [
       "['1989-02-21',\n",
       " '1989-02-22',\n",
       " '1989-02-23',\n",
       " '1989-02-24',\n",
       " '1989-02-25',\n",
       " '1989-02-26',\n",
       " '1989-02-27',\n",
       " '1989-02-28']"
      ]
     },
     "metadata": {},
     "execution_count": 14
    }
   ],
   "source": [
    "start_date = \"1989-02-20\"\n",
    "end_date = \"1989-02-28\"\n",
    "\n",
    "def date_range(start_date, end_date):\n",
    "    from datetime import datetime\n",
    "    from datetime import timedelta\n",
    "    range = []\n",
    "\n",
    "    try:\n",
    "        start = datetime.strptime(start_date, '%Y-%m-%d')\n",
    "        end = datetime.strptime(end_date, '%Y-%m-%d')\n",
    "    except:\n",
    "        return []\n",
    "\n",
    "    if start < end:\n",
    "        while start < end:\n",
    "            start = start + timedelta(days=1)\n",
    "            range.append(start.strftime('%Y-%m-%d'))\n",
    "        return range\n",
    "    elif start > end:\n",
    "        return range\n",
    "\n",
    "date_range(start_date, end_date)"
   ]
  },
  {
   "cell_type": "code",
   "execution_count": null,
   "metadata": {},
   "outputs": [],
   "source": []
  }
 ],
 "metadata": {
  "kernelspec": {
   "name": "python3",
   "display_name": "Python 3.8.8 64-bit ('base': conda)"
  },
  "language_info": {
   "codemirror_mode": {
    "name": "ipython",
    "version": 3
   },
   "file_extension": ".py",
   "mimetype": "text/x-python",
   "name": "python",
   "nbconvert_exporter": "python",
   "pygments_lexer": "ipython3",
   "version": "3.8.8"
  },
  "interpreter": {
   "hash": "08bdbe18a0bd1ff1aa548415cfeb3ea8c0b6bbca5c0cb6370c409ba657df1827"
  }
 },
 "nbformat": 4,
 "nbformat_minor": 5
}