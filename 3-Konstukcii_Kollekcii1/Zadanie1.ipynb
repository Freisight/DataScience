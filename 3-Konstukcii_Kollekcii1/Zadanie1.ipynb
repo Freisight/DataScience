{
 "cells": [
  {
   "cell_type": "code",
   "execution_count": 60,
   "id": "03785323",
   "metadata": {},
   "outputs": [
    {
     "name": "stdout",
     "output_type": "stream",
     "text": [
      "t\n"
     ]
    }
   ],
   "source": [
    "word = \"testing\"\n",
    "if len(word) % 2 != 0:\n",
    "    half = len(word) // 2\n",
    "    print(word[half])\n",
    "elif len(word) % 2 == 0:\n",
    "    half = len(word) // 2\n",
    "    half_minus = half - 1\n",
    "    print(word[half_minus] + word[half])\n"
   ]
  },
  {
   "cell_type": "code",
   "execution_count": 59,
   "id": "2f8e517f",
   "metadata": {},
   "outputs": [
    {
     "name": "stdout",
     "output_type": "stream",
     "text": [
      "es\n"
     ]
    }
   ],
   "source": [
    "word = \"test\"\n",
    "if len(word) % 2 != 0:\n",
    "    half = len(word) // 2\n",
    "    print(word[half])\n",
    "elif len(word) % 2 == 0:\n",
    "    half = len(word) // 2\n",
    "    half_minus = half - 1\n",
    "    print(word[half_minus] + word[half])\n",
    "    "
   ]
  },
  {
   "cell_type": "code",
   "execution_count": null,
   "id": "259078d9",
   "metadata": {},
   "outputs": [],
   "source": []
  }
 ],
 "metadata": {
  "kernelspec": {
   "display_name": "Python 3",
   "language": "python",
   "name": "python3"
  },
  "language_info": {
   "codemirror_mode": {
    "name": "ipython",
    "version": 3
   },
   "file_extension": ".py",
   "mimetype": "text/x-python",
   "name": "python",
   "nbconvert_exporter": "python",
   "pygments_lexer": "ipython3",
   "version": "3.8.8"
  }
 },
 "nbformat": 4,
 "nbformat_minor": 5
}
