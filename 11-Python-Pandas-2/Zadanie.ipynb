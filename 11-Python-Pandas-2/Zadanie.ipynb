{
 "cells": [
  {
   "cell_type": "code",
   "execution_count": null,
   "metadata": {},
   "outputs": [],
   "source": [
    "# Задание 1**\n",
    "# Напишите функцию, которая классифицирует фильмы из материалов занятия по следующим правилам:\n",
    "# - оценка 2 и меньше - низкий рейтинг\n",
    "# - оценка 4 и меньше - средний рейтинг\n",
    "# - оценка 4.5 и 5 - высокий рейтинг\n",
    "\n",
    "# Результат классификации запишите в столбец class"
   ]
  },
  {
   "cell_type": "code",
   "execution_count": 2,
   "metadata": {},
   "outputs": [],
   "source": [
    "import pandas as pd\n",
    "data = pd.read_csv('ml-latest-small/ratings.csv')"
   ]
  },
  {
   "cell_type": "code",
   "execution_count": 23,
   "metadata": {},
   "outputs": [
    {
     "output_type": "execute_result",
     "data": {
      "text/plain": [
       "    userId  movieId  rating   timestamp            class\n",
       "0        1       31     2.5  1260759144  средний рейтинг\n",
       "1        1     1029     3.0  1260759179  средний рейтинг\n",
       "2        1     1061     3.0  1260759182  средний рейтинг\n",
       "3        1     1129     2.0  1260759185   низкий рейтинг\n",
       "4        1     1172     4.0  1260759205  средний рейтинг\n",
       "5        1     1263     2.0  1260759151   низкий рейтинг\n",
       "6        1     1287     2.0  1260759187   низкий рейтинг\n",
       "7        1     1293     2.0  1260759148   низкий рейтинг\n",
       "8        1     1339     3.5  1260759125  средний рейтинг\n",
       "9        1     1343     2.0  1260759131   низкий рейтинг\n",
       "10       1     1371     2.5  1260759135  средний рейтинг\n",
       "11       1     1405     1.0  1260759203   низкий рейтинг\n",
       "12       1     1953     4.0  1260759191  средний рейтинг\n",
       "13       1     2105     4.0  1260759139  средний рейтинг\n",
       "14       1     2150     3.0  1260759194  средний рейтинг\n",
       "15       1     2193     2.0  1260759198   низкий рейтинг\n",
       "16       1     2294     2.0  1260759108   низкий рейтинг\n",
       "17       1     2455     2.5  1260759113  средний рейтинг\n",
       "18       1     2968     1.0  1260759200   низкий рейтинг\n",
       "19       1     3671     3.0  1260759117  средний рейтинг\n",
       "20       2       10     4.0   835355493  средний рейтинг\n",
       "21       2       17     5.0   835355681  высокий рейтинг\n",
       "22       2       39     5.0   835355604  высокий рейтинг\n",
       "23       2       47     4.0   835355552  средний рейтинг\n",
       "24       2       50     4.0   835355586  средний рейтинг\n",
       "25       2       52     3.0   835356031  средний рейтинг\n",
       "26       2       62     3.0   835355749  средний рейтинг\n",
       "27       2      110     4.0   835355532  средний рейтинг\n",
       "28       2      144     3.0   835356016  средний рейтинг\n",
       "29       2      150     5.0   835355395  высокий рейтинг\n",
       "30       2      153     4.0   835355441  средний рейтинг\n",
       "31       2      161     3.0   835355493  средний рейтинг\n",
       "32       2      165     3.0   835355441  средний рейтинг\n",
       "33       2      168     3.0   835355710  средний рейтинг\n",
       "34       2      185     3.0   835355511  средний рейтинг\n",
       "35       2      186     3.0   835355664  средний рейтинг\n",
       "36       2      208     3.0   835355511  средний рейтинг\n",
       "37       2      222     5.0   835355840  высокий рейтинг\n",
       "38       2      223     1.0   835355749   низкий рейтинг\n",
       "39       2      225     3.0   835355552  средний рейтинг\n",
       "40       2      235     3.0   835355664  средний рейтинг\n",
       "41       2      248     3.0   835355896  средний рейтинг\n",
       "42       2      253     4.0   835355511  средний рейтинг\n",
       "43       2      261     4.0   835355681  средний рейтинг\n",
       "44       2      265     5.0   835355697  высокий рейтинг\n",
       "45       2      266     5.0   835355586  высокий рейтинг\n",
       "46       2      272     3.0   835355767  средний рейтинг\n",
       "47       2      273     4.0   835355779  средний рейтинг\n",
       "48       2      292     3.0   835355492  средний рейтинг\n",
       "49       2      296     4.0   835355395  средний рейтинг"
      ],
      "text/html": "<div>\n<style scoped>\n    .dataframe tbody tr th:only-of-type {\n        vertical-align: middle;\n    }\n\n    .dataframe tbody tr th {\n        vertical-align: top;\n    }\n\n    .dataframe thead th {\n        text-align: right;\n    }\n</style>\n<table border=\"1\" class=\"dataframe\">\n  <thead>\n    <tr style=\"text-align: right;\">\n      <th></th>\n      <th>userId</th>\n      <th>movieId</th>\n      <th>rating</th>\n      <th>timestamp</th>\n      <th>class</th>\n    </tr>\n  </thead>\n  <tbody>\n    <tr>\n      <th>0</th>\n      <td>1</td>\n      <td>31</td>\n      <td>2.5</td>\n      <td>1260759144</td>\n      <td>средний рейтинг</td>\n    </tr>\n    <tr>\n      <th>1</th>\n      <td>1</td>\n      <td>1029</td>\n      <td>3.0</td>\n      <td>1260759179</td>\n      <td>средний рейтинг</td>\n    </tr>\n    <tr>\n      <th>2</th>\n      <td>1</td>\n      <td>1061</td>\n      <td>3.0</td>\n      <td>1260759182</td>\n      <td>средний рейтинг</td>\n    </tr>\n    <tr>\n      <th>3</th>\n      <td>1</td>\n      <td>1129</td>\n      <td>2.0</td>\n      <td>1260759185</td>\n      <td>низкий рейтинг</td>\n    </tr>\n    <tr>\n      <th>4</th>\n      <td>1</td>\n      <td>1172</td>\n      <td>4.0</td>\n      <td>1260759205</td>\n      <td>средний рейтинг</td>\n    </tr>\n    <tr>\n      <th>5</th>\n      <td>1</td>\n      <td>1263</td>\n      <td>2.0</td>\n      <td>1260759151</td>\n      <td>низкий рейтинг</td>\n    </tr>\n    <tr>\n      <th>6</th>\n      <td>1</td>\n      <td>1287</td>\n      <td>2.0</td>\n      <td>1260759187</td>\n      <td>низкий рейтинг</td>\n    </tr>\n    <tr>\n      <th>7</th>\n      <td>1</td>\n      <td>1293</td>\n      <td>2.0</td>\n      <td>1260759148</td>\n      <td>низкий рейтинг</td>\n    </tr>\n    <tr>\n      <th>8</th>\n      <td>1</td>\n      <td>1339</td>\n      <td>3.5</td>\n      <td>1260759125</td>\n      <td>средний рейтинг</td>\n    </tr>\n    <tr>\n      <th>9</th>\n      <td>1</td>\n      <td>1343</td>\n      <td>2.0</td>\n      <td>1260759131</td>\n      <td>низкий рейтинг</td>\n    </tr>\n    <tr>\n      <th>10</th>\n      <td>1</td>\n      <td>1371</td>\n      <td>2.5</td>\n      <td>1260759135</td>\n      <td>средний рейтинг</td>\n    </tr>\n    <tr>\n      <th>11</th>\n      <td>1</td>\n      <td>1405</td>\n      <td>1.0</td>\n      <td>1260759203</td>\n      <td>низкий рейтинг</td>\n    </tr>\n    <tr>\n      <th>12</th>\n      <td>1</td>\n      <td>1953</td>\n      <td>4.0</td>\n      <td>1260759191</td>\n      <td>средний рейтинг</td>\n    </tr>\n    <tr>\n      <th>13</th>\n      <td>1</td>\n      <td>2105</td>\n      <td>4.0</td>\n      <td>1260759139</td>\n      <td>средний рейтинг</td>\n    </tr>\n    <tr>\n      <th>14</th>\n      <td>1</td>\n      <td>2150</td>\n      <td>3.0</td>\n      <td>1260759194</td>\n      <td>средний рейтинг</td>\n    </tr>\n    <tr>\n      <th>15</th>\n      <td>1</td>\n      <td>2193</td>\n      <td>2.0</td>\n      <td>1260759198</td>\n      <td>низкий рейтинг</td>\n    </tr>\n    <tr>\n      <th>16</th>\n      <td>1</td>\n      <td>2294</td>\n      <td>2.0</td>\n      <td>1260759108</td>\n      <td>низкий рейтинг</td>\n    </tr>\n    <tr>\n      <th>17</th>\n      <td>1</td>\n      <td>2455</td>\n      <td>2.5</td>\n      <td>1260759113</td>\n      <td>средний рейтинг</td>\n    </tr>\n    <tr>\n      <th>18</th>\n      <td>1</td>\n      <td>2968</td>\n      <td>1.0</td>\n      <td>1260759200</td>\n      <td>низкий рейтинг</td>\n    </tr>\n    <tr>\n      <th>19</th>\n      <td>1</td>\n      <td>3671</td>\n      <td>3.0</td>\n      <td>1260759117</td>\n      <td>средний рейтинг</td>\n    </tr>\n    <tr>\n      <th>20</th>\n      <td>2</td>\n      <td>10</td>\n      <td>4.0</td>\n      <td>835355493</td>\n      <td>средний рейтинг</td>\n    </tr>\n    <tr>\n      <th>21</th>\n      <td>2</td>\n      <td>17</td>\n      <td>5.0</td>\n      <td>835355681</td>\n      <td>высокий рейтинг</td>\n    </tr>\n    <tr>\n      <th>22</th>\n      <td>2</td>\n      <td>39</td>\n      <td>5.0</td>\n      <td>835355604</td>\n      <td>высокий рейтинг</td>\n    </tr>\n    <tr>\n      <th>23</th>\n      <td>2</td>\n      <td>47</td>\n      <td>4.0</td>\n      <td>835355552</td>\n      <td>средний рейтинг</td>\n    </tr>\n    <tr>\n      <th>24</th>\n      <td>2</td>\n      <td>50</td>\n      <td>4.0</td>\n      <td>835355586</td>\n      <td>средний рейтинг</td>\n    </tr>\n    <tr>\n      <th>25</th>\n      <td>2</td>\n      <td>52</td>\n      <td>3.0</td>\n      <td>835356031</td>\n      <td>средний рейтинг</td>\n    </tr>\n    <tr>\n      <th>26</th>\n      <td>2</td>\n      <td>62</td>\n      <td>3.0</td>\n      <td>835355749</td>\n      <td>средний рейтинг</td>\n    </tr>\n    <tr>\n      <th>27</th>\n      <td>2</td>\n      <td>110</td>\n      <td>4.0</td>\n      <td>835355532</td>\n      <td>средний рейтинг</td>\n    </tr>\n    <tr>\n      <th>28</th>\n      <td>2</td>\n      <td>144</td>\n      <td>3.0</td>\n      <td>835356016</td>\n      <td>средний рейтинг</td>\n    </tr>\n    <tr>\n      <th>29</th>\n      <td>2</td>\n      <td>150</td>\n      <td>5.0</td>\n      <td>835355395</td>\n      <td>высокий рейтинг</td>\n    </tr>\n    <tr>\n      <th>30</th>\n      <td>2</td>\n      <td>153</td>\n      <td>4.0</td>\n      <td>835355441</td>\n      <td>средний рейтинг</td>\n    </tr>\n    <tr>\n      <th>31</th>\n      <td>2</td>\n      <td>161</td>\n      <td>3.0</td>\n      <td>835355493</td>\n      <td>средний рейтинг</td>\n    </tr>\n    <tr>\n      <th>32</th>\n      <td>2</td>\n      <td>165</td>\n      <td>3.0</td>\n      <td>835355441</td>\n      <td>средний рейтинг</td>\n    </tr>\n    <tr>\n      <th>33</th>\n      <td>2</td>\n      <td>168</td>\n      <td>3.0</td>\n      <td>835355710</td>\n      <td>средний рейтинг</td>\n    </tr>\n    <tr>\n      <th>34</th>\n      <td>2</td>\n      <td>185</td>\n      <td>3.0</td>\n      <td>835355511</td>\n      <td>средний рейтинг</td>\n    </tr>\n    <tr>\n      <th>35</th>\n      <td>2</td>\n      <td>186</td>\n      <td>3.0</td>\n      <td>835355664</td>\n      <td>средний рейтинг</td>\n    </tr>\n    <tr>\n      <th>36</th>\n      <td>2</td>\n      <td>208</td>\n      <td>3.0</td>\n      <td>835355511</td>\n      <td>средний рейтинг</td>\n    </tr>\n    <tr>\n      <th>37</th>\n      <td>2</td>\n      <td>222</td>\n      <td>5.0</td>\n      <td>835355840</td>\n      <td>высокий рейтинг</td>\n    </tr>\n    <tr>\n      <th>38</th>\n      <td>2</td>\n      <td>223</td>\n      <td>1.0</td>\n      <td>835355749</td>\n      <td>низкий рейтинг</td>\n    </tr>\n    <tr>\n      <th>39</th>\n      <td>2</td>\n      <td>225</td>\n      <td>3.0</td>\n      <td>835355552</td>\n      <td>средний рейтинг</td>\n    </tr>\n    <tr>\n      <th>40</th>\n      <td>2</td>\n      <td>235</td>\n      <td>3.0</td>\n      <td>835355664</td>\n      <td>средний рейтинг</td>\n    </tr>\n    <tr>\n      <th>41</th>\n      <td>2</td>\n      <td>248</td>\n      <td>3.0</td>\n      <td>835355896</td>\n      <td>средний рейтинг</td>\n    </tr>\n    <tr>\n      <th>42</th>\n      <td>2</td>\n      <td>253</td>\n      <td>4.0</td>\n      <td>835355511</td>\n      <td>средний рейтинг</td>\n    </tr>\n    <tr>\n      <th>43</th>\n      <td>2</td>\n      <td>261</td>\n      <td>4.0</td>\n      <td>835355681</td>\n      <td>средний рейтинг</td>\n    </tr>\n    <tr>\n      <th>44</th>\n      <td>2</td>\n      <td>265</td>\n      <td>5.0</td>\n      <td>835355697</td>\n      <td>высокий рейтинг</td>\n    </tr>\n    <tr>\n      <th>45</th>\n      <td>2</td>\n      <td>266</td>\n      <td>5.0</td>\n      <td>835355586</td>\n      <td>высокий рейтинг</td>\n    </tr>\n    <tr>\n      <th>46</th>\n      <td>2</td>\n      <td>272</td>\n      <td>3.0</td>\n      <td>835355767</td>\n      <td>средний рейтинг</td>\n    </tr>\n    <tr>\n      <th>47</th>\n      <td>2</td>\n      <td>273</td>\n      <td>4.0</td>\n      <td>835355779</td>\n      <td>средний рейтинг</td>\n    </tr>\n    <tr>\n      <th>48</th>\n      <td>2</td>\n      <td>292</td>\n      <td>3.0</td>\n      <td>835355492</td>\n      <td>средний рейтинг</td>\n    </tr>\n    <tr>\n      <th>49</th>\n      <td>2</td>\n      <td>296</td>\n      <td>4.0</td>\n      <td>835355395</td>\n      <td>средний рейтинг</td>\n    </tr>\n  </tbody>\n</table>\n</div>"
     },
     "metadata": {},
     "execution_count": 23
    }
   ],
   "source": [
    "# наш план\n",
    "# пишем условие в котором исходя из рейтинга в цифрах  - пишется рейтинг фразовый\n",
    "# он должен создавать фразу исходя из цифры находящуюся в нужном стоблце (тут как-то вместо цикл aplly?)\n",
    "# всё это оборачиваем в функцию - \n",
    "\n",
    "# stats['word_count'] = stats['phrase'].apply(lambda word: len(word.split(' ')))\n",
    "\n",
    "def rate(rating):\n",
    "    if rating <= 2:\n",
    "        return 'низкий рейтинг'\n",
    "    elif rating <= 4:\n",
    "        return 'средний рейтинг'\n",
    "    return 'высокий рейтинг'\n",
    "\n",
    "\n",
    "data['class'] = data['rating'].apply(rate)\n",
    "# data[data['rating'] >= 5]\n",
    "data.head(50)\n",
    "\n",
    "\n",
    "\n",
    "\n"
   ]
  },
  {
   "cell_type": "code",
   "execution_count": null,
   "metadata": {},
   "outputs": [],
   "source": [
    "# Задание 2\n",
    "# Используем файл keywords.csv.\n",
    "\n",
    "# Необходимо написать гео-классификатор, который каждой строке сможет выставить географическую принадлежность определенному региону. Т. е. если поисковый запрос содержит название города региона, то в столбце ‘region’ пишется название этого региона. Если поисковый запрос не содержит названия города, то ставим ‘undefined’.\n",
    "\n",
    "# Правила распределения по регионам Центр, Северо-Запад и Дальний Восток:"
   ]
  },
  {
   "cell_type": "code",
   "execution_count": 51,
   "metadata": {
    "tags": []
   },
   "outputs": [
    {
     "output_type": "execute_result",
     "data": {
      "text/plain": [
       "                       keyword     shows     region\n",
       "0                           вк  64292779  undefined\n",
       "1                одноклассники  63810309  undefined\n",
       "2                        порно  41747114  undefined\n",
       "3                         ютуб  39995567  undefined\n",
       "4                    вконтакте  21014195  undefined\n",
       "...                        ...       ...        ...\n",
       "99995   эльдорадо старый оскол      3705  undefined\n",
       "99996      frigate для firefox      3630  undefined\n",
       "99997                   укрсиб      3630  undefined\n",
       "99998  погода в ялте на неделю      3688  undefined\n",
       "99999                     ггму      3630  undefined\n",
       "\n",
       "[100000 rows x 3 columns]"
      ],
      "text/html": "<div>\n<style scoped>\n    .dataframe tbody tr th:only-of-type {\n        vertical-align: middle;\n    }\n\n    .dataframe tbody tr th {\n        vertical-align: top;\n    }\n\n    .dataframe thead th {\n        text-align: right;\n    }\n</style>\n<table border=\"1\" class=\"dataframe\">\n  <thead>\n    <tr style=\"text-align: right;\">\n      <th></th>\n      <th>keyword</th>\n      <th>shows</th>\n      <th>region</th>\n    </tr>\n  </thead>\n  <tbody>\n    <tr>\n      <th>0</th>\n      <td>вк</td>\n      <td>64292779</td>\n      <td>undefined</td>\n    </tr>\n    <tr>\n      <th>1</th>\n      <td>одноклассники</td>\n      <td>63810309</td>\n      <td>undefined</td>\n    </tr>\n    <tr>\n      <th>2</th>\n      <td>порно</td>\n      <td>41747114</td>\n      <td>undefined</td>\n    </tr>\n    <tr>\n      <th>3</th>\n      <td>ютуб</td>\n      <td>39995567</td>\n      <td>undefined</td>\n    </tr>\n    <tr>\n      <th>4</th>\n      <td>вконтакте</td>\n      <td>21014195</td>\n      <td>undefined</td>\n    </tr>\n    <tr>\n      <th>...</th>\n      <td>...</td>\n      <td>...</td>\n      <td>...</td>\n    </tr>\n    <tr>\n      <th>99995</th>\n      <td>эльдорадо старый оскол</td>\n      <td>3705</td>\n      <td>undefined</td>\n    </tr>\n    <tr>\n      <th>99996</th>\n      <td>frigate для firefox</td>\n      <td>3630</td>\n      <td>undefined</td>\n    </tr>\n    <tr>\n      <th>99997</th>\n      <td>укрсиб</td>\n      <td>3630</td>\n      <td>undefined</td>\n    </tr>\n    <tr>\n      <th>99998</th>\n      <td>погода в ялте на неделю</td>\n      <td>3688</td>\n      <td>undefined</td>\n    </tr>\n    <tr>\n      <th>99999</th>\n      <td>ггму</td>\n      <td>3630</td>\n      <td>undefined</td>\n    </tr>\n  </tbody>\n</table>\n<p>100000 rows × 3 columns</p>\n</div>"
     },
     "metadata": {},
     "execution_count": 51
    }
   ],
   "source": [
    "data_key = pd.read_csv('ml-latest-small/keywords.csv')\n",
    "\n",
    "\n",
    "geo_data = {\n",
    "'Центр': ['москва', 'тула', 'ярославль'],\n",
    "'Северо-Запад': ['петербург', 'псков', 'мурманск'],\n",
    "'Дальний Восток': ['владивосток', 'сахалин', 'хабаровск']\n",
    "}\n",
    "\n",
    "def region(keyword):\n",
    "    for item, value in geo_data.items():\n",
    "        for items in value:\n",
    "            if items in keyword:\n",
    "                return item\n",
    "    return 'undefined'\n",
    "\n",
    "data_key['region'] = data_key['keyword'].apply(region)\n",
    "data_key\n",
    "# data_key['region'].value_counts()\n",
    "# data_key[data_key['region'] == 'Центр']"
   ]
  },
  {
   "cell_type": "code",
   "execution_count": null,
   "metadata": {},
   "outputs": [],
   "source": []
  }
 ],
 "metadata": {
  "interpreter": {
   "hash": "08bdbe18a0bd1ff1aa548415cfeb3ea8c0b6bbca5c0cb6370c409ba657df1827"
  },
  "kernelspec": {
   "name": "python3",
   "display_name": "Python 3.8.8 64-bit ('base': conda)"
  },
  "language_info": {
   "codemirror_mode": {
    "name": "ipython",
    "version": 3
   },
   "file_extension": ".py",
   "mimetype": "text/x-python",
   "name": "python",
   "nbconvert_exporter": "python",
   "pygments_lexer": "ipython3",
   "version": "3.8.8"
  }
 },
 "nbformat": 4,
 "nbformat_minor": 5
}