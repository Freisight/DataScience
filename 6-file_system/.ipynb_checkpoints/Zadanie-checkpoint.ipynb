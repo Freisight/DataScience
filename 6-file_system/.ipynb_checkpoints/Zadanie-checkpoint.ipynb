{
 "cells": [
  {
   "cell_type": "markdown",
   "id": "edfd1f39",
   "metadata": {
    "tags": []
   },
   "source": [
    "# Задание 1"
   ]
  },
  {
   "cell_type": "code",
   "execution_count": null,
   "id": "87549e8c",
   "metadata": {
    "tags": [
     "outputPrepend"
    ]
   },
   "outputs": [],
   "source": [
    "purchases = {}\n",
    "import json\n",
    "\n",
    "with open('purchase_log.txt') as item:\n",
    "    for line in item:\n",
    "        line = line.strip()\n",
    "        line = json.loads(line)\n",
    "        purchases[line[\"user_id\"]] = line[\"category\"]\n",
    "        \n",
    "\n",
    "print(purchases)"
   ]
  },
  {
   "cell_type": "markdown",
   "id": "00f32d1a",
   "metadata": {},
   "source": [
    "# Задание 2"
   ]
  },
  {
   "cell_type": "code",
   "execution_count": null,
   "id": "233b2f6d",
   "metadata": {
    "tags": []
   },
   "outputs": [],
   "source": [
    "all_content = []\n",
    "with open('visit_log.csv', 'r') as visit:\n",
    "    with open('funnel.csv', 'w') as funnel:\n",
    "        content = visit.readlines()\n",
    "        content = [items.strip().split(',') for items in content]\n",
    "        print(content[0])\n",
    "#         all_content = sum(content, [])\n",
    "#         print(all_content)\n"
   ]
  },
  {
   "cell_type": "code",
   "execution_count": null,
   "id": "ad1a23e7",
   "metadata": {},
   "outputs": [],
   "source": []
  }
 ],
 "metadata": {
  "interpreter": {
   "hash": "08bdbe18a0bd1ff1aa548415cfeb3ea8c0b6bbca5c0cb6370c409ba657df1827"
  },
  "kernelspec": {
   "display_name": "Python 3",
   "language": "python",
   "name": "python3"
  },
  "language_info": {
   "codemirror_mode": {
    "name": "ipython",
    "version": 3
   },
   "file_extension": ".py",
   "mimetype": "text/x-python",
   "name": "python",
   "nbconvert_exporter": "python",
   "pygments_lexer": "ipython3",
   "version": "3.8.8"
  }
 },
 "nbformat": 4,
 "nbformat_minor": 5
}
