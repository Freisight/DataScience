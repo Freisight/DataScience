{
 "cells": [
  {
   "cell_type": "code",
   "execution_count": 2,
   "id": "87549e8c",
   "metadata": {
    "tags": []
   },
   "outputs": [],
   "source": [
    "purchases = {}\n",
    "import json\n",
    "\n",
    "with open('purchase_log.txt') as item:\n",
    "    for line in item:\n",
    "        line = line.strip()\n",
    "        line = json.loads(line)\n",
    "        purchases[line[\"user_id\"]] = line[\"category\"]"
   ]
  },
  {
   "cell_type": "code",
   "execution_count": 22,
   "metadata": {
    "tags": []
   },
   "outputs": [],
   "source": [
    "with open (\"visit_log.csv\") as visit:\n",
    "    with open(\"funnel.csv\", \"w\") as result:\n",
    "        listos = []\n",
    "        for item in visit:\n",
    "            line = item.strip().split(\",\")\n",
    "            if line[0] in purchases.keys():\n",
    "                result.write(line[0])\n",
    "                result.write(\", \")\n",
    "                result.write(line[1])\n",
    "                result.write(\", \")\n",
    "                result.write(str(purchases[line[0]]))\n",
    "                result.write(\"\\n\")"
   ]
  }
 ],
 "metadata": {
  "interpreter": {
   "hash": "08bdbe18a0bd1ff1aa548415cfeb3ea8c0b6bbca5c0cb6370c409ba657df1827"
  },
  "kernelspec": {
   "name": "python3",
   "display_name": "Python 3.8.8 64-bit ('base': conda)"
  },
  "language_info": {
   "codemirror_mode": {
    "name": "ipython",
    "version": 3
   },
   "file_extension": ".py",
   "mimetype": "text/x-python",
   "name": "python",
   "nbconvert_exporter": "python",
   "pygments_lexer": "ipython3",
   "version": "3.8.8"
  }
 },
 "nbformat": 4,
 "nbformat_minor": 5
}